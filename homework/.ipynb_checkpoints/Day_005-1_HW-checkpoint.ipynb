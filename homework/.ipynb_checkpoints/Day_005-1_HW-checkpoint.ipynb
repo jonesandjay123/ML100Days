{
 "cells": [
  {
   "cell_type": "markdown",
   "metadata": {},
   "source": [
    "# [作業目標]\n",
    "- 利用範例的創建方式, 創建一組資料, 並練習如何取出最大值"
   ]
  },
  {
   "cell_type": "markdown",
   "metadata": {},
   "source": [
    "# [作業重點]\n",
    "- 練習創立 DataFrame (In[2])\n",
    "- 如何取出口數最多的國家 (In[3], Out[3])"
   ]
  },
  {
   "cell_type": "markdown",
   "metadata": {},
   "source": [
    "## 練習時間\n",
    "在小量的資料上，我們用眼睛就可以看得出來程式碼是否有跑出我們理想中的結果\n",
    "\n",
    "請嘗試想像一個你需要的資料結構 (裡面的值可以是隨機的)，然後用上述的方法把它變成 pandas DataFrame\n",
    "\n",
    "#### Ex: 想像一個 dataframe 有兩個欄位，一個是國家，一個是人口，求人口數最多的國家\n",
    "\n",
    "### Hints: [隨機產生數值](https://blog.csdn.net/christianashannon/article/details/78867204)"
   ]
  },
  {
   "cell_type": "code",
   "execution_count": 44,
   "metadata": {},
   "outputs": [],
   "source": [
    "import pandas as pd\n",
    "import numpy as np"
   ]
  },
  {
   "cell_type": "code",
   "execution_count": 61,
   "metadata": {
    "scrolled": true
   },
   "outputs": [
    {
     "name": "stdout",
     "output_type": "stream",
     "text": [
      "       國家          人口\n",
      "0  Taiwan   638628180\n",
      "1   Japan  1105423815\n",
      "2     USA   891288736\n"
     ]
    }
   ],
   "source": [
    "data = {'國家': ['Taiwan','Japan','USA'],\n",
    "        '人口': np.random.randint(1500000001,size=3)}\n",
    "result = pd.DataFrame(data)\n",
    "print(result)"
   ]
  },
  {
   "cell_type": "code",
   "execution_count": 63,
   "metadata": {},
   "outputs": [
    {
     "name": "stdout",
     "output_type": "stream",
     "text": [
      "       國家       訪客\n",
      "0   China   491938\n",
      "1   Korea  7589224\n",
      "2  Russia  1432610\n"
     ]
    }
   ],
   "source": [
    "#資料列單獨切分出來的作法\n",
    "countries = ['China','Korea','Russia']\n",
    "randomVisitor = np.random.randint(10000001,size=len(countries))\n",
    "list_labels = ['國家','訪客']\n",
    "list_cols = [countries, randomVisitor]\n",
    "zipped = list(zip(list_labels, list_cols))\n",
    "result = pd.DataFrame(dict(zipped))\n",
    "print(result)"
   ]
  }
 ],
 "metadata": {
  "kernelspec": {
   "display_name": "Python 3",
   "language": "python",
   "name": "python3"
  },
  "language_info": {
   "codemirror_mode": {
    "name": "ipython",
    "version": 3
   },
   "file_extension": ".py",
   "mimetype": "text/x-python",
   "name": "python",
   "nbconvert_exporter": "python",
   "pygments_lexer": "ipython3",
   "version": "3.7.6"
  }
 },
 "nbformat": 4,
 "nbformat_minor": 2
}
