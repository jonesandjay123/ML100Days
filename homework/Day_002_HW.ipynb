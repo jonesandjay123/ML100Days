{
 "cells": [
  {
   "cell_type": "markdown",
   "metadata": {},
   "source": [
    "## [作業目標]\n",
    "了解機器學習適合應用的領域與範疇。"
   ]
  },
  {
   "cell_type": "markdown",
   "metadata": {},
   "source": [
    "## [作業重點]\n",
    "透過瞭解機器學習的運作方式，找出非常適用機器學習應用的領域及其原因"
   ]
  },
  {
   "cell_type": "markdown",
   "metadata": {},
   "source": [
    "## 作業\n",
    "請找出一個你認為機器學習可以發光發熱的領域並闡述原因? "
   ]
  },
  {
   "cell_type": "markdown",
   "metadata": {},
   "source": [
    "\n",
    "股票趨勢預測：\n",
    "\n",
    "提到ＡＩ，近年來最熱門的當屬AlphaGo圍棋的新聞了！\n",
    "前幾天看節目訪問台灣知名圍棋手黑嘉嘉的片段。\n",
    "她說，頂尖的棋手大多技術面表現的水準都已差不多，反而影響勝負成敗的關鍵，最後都落到了心理狀態與素質方面。\n",
    "她接著表示，ＡＩ在這方面遠勝於人類、幾乎可以說是完美。同時ＡＩ還可以打破人們既有的思維、為圍棋帶來新的著法和領域！\n",
    "\n",
    "儘管上述是以圍棋來做例子，但題目討論的是在於“機器學習”的領域。\n",
    "我個人很看好機器：冷靜沈著、不受感情因素影響，絕對理智的特性！\n",
    "\n",
    "同時也是因為《用 Python 打造你的 AI 股票交易引擎》才前來報名課程的！！\n",
    "所以我認為，機器學習在這種人為心理因素極度影響股市操盤的領域中，絕對能發光發熱！\n",
    "\n",
    "\n",
    "\n",
    "\n"
   ]
  }
 ],
 "metadata": {
  "kernelspec": {
   "display_name": "Python 3",
   "language": "python",
   "name": "python3"
  },
  "language_info": {
   "codemirror_mode": {
    "name": "ipython",
    "version": 3
   },
   "file_extension": ".py",
   "mimetype": "text/x-python",
   "name": "python",
   "nbconvert_exporter": "python",
   "pygments_lexer": "ipython3",
   "version": "3.7.6"
  }
 },
 "nbformat": 4,
 "nbformat_minor": 2
}
